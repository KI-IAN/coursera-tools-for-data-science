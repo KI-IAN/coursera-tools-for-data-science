{
 "cells": [
  {
   "cell_type": "markdown",
   "id": "925a5eb1-eb27-402b-8cb6-d5302268de69",
   "metadata": {},
   "source": [
    "# Data Science Tools and Ecosystem"
   ]
  },
  {
   "cell_type": "markdown",
   "id": "51474247-7ed6-40f4-8ca0-04a974bc554e",
   "metadata": {},
   "source": [
    "In this notebook, Data Science Tools and Ecosystem are summarized."
   ]
  },
  {
   "cell_type": "markdown",
   "id": "0cc43a6e-c849-4df9-8c1f-45cc0d40a76e",
   "metadata": {},
   "source": [
    "**Objectives:**\n",
    "\n",
    "* Popular Languages for Data Science\n",
    "* Commonly used libraries for Data Science\n",
    "* List of some Data Science Tools\n",
    "* Example of Arithmetic Expression in Python\n"
   ]
  },
  {
   "cell_type": "markdown",
   "id": "636427f8-2761-4e4f-acff-d709a67c73c0",
   "metadata": {},
   "source": [
    "Some of the popular languages that Data Scientists use are:\n",
    "    \n",
    "1. Python\n",
    "2. R\n",
    "3. Julia\n",
    "4. Scala\n"
   ]
  },
  {
   "cell_type": "markdown",
   "id": "b7ee3a23-711b-49d2-9457-9bececf674b5",
   "metadata": {},
   "source": [
    "Some of the commonly used libraries used by Data Scientists include:\n",
    "\n",
    "1. Pandas\n",
    "2. NumPy\n",
    "3. Scikit\n",
    "4. SciPy"
   ]
  },
  {
   "cell_type": "markdown",
   "id": "1470ad9d-6a5e-4514-a790-6434973de5f6",
   "metadata": {},
   "source": [
    "|Data Science Tools|\n",
    "|------------------|\n",
    "|Jupytr Notebook|\n",
    "|Juptyr Lab|\n",
    "|RStudio|\n",
    "|Google CoLab|\n",
    "|IBM Watson Studio|"
   ]
  },
  {
   "cell_type": "markdown",
   "id": "27ac3429-271b-4b52-a548-442ab9e36273",
   "metadata": {
    "tags": []
   },
   "source": [
    "### Below are a few examples of evaluating arithmetic expressions in Python\n",
    "\n",
    "* 11*2-3\n",
    "* 99/9"
   ]
  },
  {
   "cell_type": "code",
   "execution_count": 3,
   "id": "7e49576c-cb5f-4c9a-94e3-8e5d9c07eda9",
   "metadata": {
    "tags": []
   },
   "outputs": [
    {
     "data": {
      "text/plain": [
       "17"
      ]
     },
     "execution_count": 3,
     "metadata": {},
     "output_type": "execute_result"
    }
   ],
   "source": [
    "#  This a simple arithmetic expression to mutiply then add integers\n",
    "(3*4)+5"
   ]
  },
  {
   "cell_type": "code",
   "execution_count": 7,
   "id": "60174b67-5020-4237-a292-948c9e95a857",
   "metadata": {
    "tags": []
   },
   "outputs": [
    {
     "name": "stdout",
     "output_type": "stream",
     "text": [
      "3.3333333333333335\n"
     ]
    }
   ],
   "source": [
    "# This will convert 200 minutes to hours by diving by 60\n",
    "hours = 200/60\n",
    "print(hours)"
   ]
  },
  {
   "cell_type": "markdown",
   "id": "ebd817f3-383a-4f53-a131-fd7d05cb6efc",
   "metadata": {},
   "source": [
    "## Author\n",
    "FR Khan"
   ]
  }
 ],
 "metadata": {
  "kernelspec": {
   "display_name": "Python",
   "language": "python",
   "name": "conda-env-python-py"
  },
  "language_info": {
   "codemirror_mode": {
    "name": "ipython",
    "version": 3
   },
   "file_extension": ".py",
   "mimetype": "text/x-python",
   "name": "python",
   "nbconvert_exporter": "python",
   "pygments_lexer": "ipython3",
   "version": "3.7.12"
  }
 },
 "nbformat": 4,
 "nbformat_minor": 5
}
